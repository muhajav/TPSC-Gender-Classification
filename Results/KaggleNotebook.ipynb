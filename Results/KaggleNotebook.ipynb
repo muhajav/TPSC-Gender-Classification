{
 "cells": [
  {
   "cell_type": "code",
   "execution_count": 1,
   "metadata": {
    "_cell_guid": "b1076dfc-b9ad-4769-8c92-a6c4dae69d19",
    "_uuid": "8f2839f25d086af736a60e9eeb907d3b93b6e0e5",
    "execution": {
     "iopub.execute_input": "2025-09-29T17:35:34.428954Z",
     "iopub.status.busy": "2025-09-29T17:35:34.428489Z",
     "iopub.status.idle": "2025-09-29T17:35:36.467431Z",
     "shell.execute_reply": "2025-09-29T17:35:36.466055Z",
     "shell.execute_reply.started": "2025-09-29T17:35:34.428913Z"
    },
    "trusted": true
   },
   "outputs": [
    {
     "name": "stdout",
     "output_type": "stream",
     "text": [
      "Visualizations saved in 'results/'\n"
     ]
    }
   ],
   "source": [
    "\n",
    "import os\n",
    "import numpy as np\n",
    "import matplotlib.pyplot as plt\n",
    "import cv2\n",
    "\n",
    "# ==== Paths ====\n",
    "image_path = \"/Users/muhajav/Documents/TPSC/Gender Classification/data/celeba/img_align_celeba/000002.jpg\"\n",
    "saliency_path = \"/Users/muhajav/Documents/TPSC/Gender Classification/Model Applied File/saliency_image01.npy\"\n",
    "lime_path = \"/Users/muhajav/Documents/TPSC/Gender Classification/Model Applied File/lime_image01.npy\"\n",
    "output_dir = \"results\"\n",
    "os.makedirs(output_dir, exist_ok=True)\n",
    "\n",
    "# ==== Load Data ====\n",
    "# Load original image\n",
    "img = cv2.imread(image_path)\n",
    "if img is None:\n",
    "    raise FileNotFoundError(f\"Could not load image at {image_path}\")\n",
    "img = cv2.cvtColor(img, cv2.COLOR_BGR2RGB)\n",
    "\n",
    "# Load heatmaps\n",
    "saliency_map = np.load(saliency_path)\n",
    "\n",
    "# Load LIME (stored as dict with key 0)\n",
    "lime_raw = np.load(lime_path, allow_pickle=True).item()\n",
    "if isinstance(lime_raw, dict) and 0 in lime_raw:\n",
    "    lime_map = lime_raw[0]\n",
    "else:\n",
    "    raise ValueError(f\"Unexpected structure in {lime_path}: {type(lime_raw)}\")\n",
    "\n",
    "# ==== Normalize heatmaps ====\n",
    "def normalize_heatmap(hmap):\n",
    "    hmap = np.nan_to_num(hmap)  # remove NaN if any\n",
    "    hmap -= hmap.min()\n",
    "    if hmap.max() > 0:\n",
    "        hmap /= hmap.max()\n",
    "    return hmap\n",
    "\n",
    "saliency_map = normalize_heatmap(saliency_map)\n",
    "lime_map = normalize_heatmap(lime_map)\n",
    "\n",
    "# ==== Visualization ====\n",
    "# 1. Side-by-side comparison\n",
    "fig, axes = plt.subplots(1, 3, figsize=(15, 5))\n",
    "\n",
    "axes[0].imshow(img)\n",
    "axes[0].set_title(\"Original Image\")\n",
    "axes[0].axis(\"off\")\n",
    "\n",
    "axes[1].imshow(saliency_map, cmap=\"jet\")\n",
    "axes[1].set_title(\"Saliency Heatmap (Yudi)\")\n",
    "axes[1].axis(\"off\")\n",
    "\n",
    "axes[2].imshow(lime_map, cmap=\"jet\")\n",
    "axes[2].set_title(\"LIME Explanation (Zidni)\")\n",
    "axes[2].axis(\"off\")\n",
    "\n",
    "plt.tight_layout()\n",
    "plt.savefig(os.path.join(output_dir, \"comparison_side_by_side2.png\"), dpi=300)\n",
    "plt.close()\n",
    "\n",
    "# 2. Overlay heatmaps on original\n",
    "def overlay_heatmap(image, heatmap, alpha=0.5, cmap=\"jet\"):\n",
    "    heatmap = cv2.resize(heatmap, (image.shape[1], image.shape[0]))\n",
    "    colored = plt.get_cmap(cmap)(heatmap)[:, :, :3]  # RGBA -> RGB\n",
    "    overlay = (1 - alpha) * image / 255.0 + alpha * colored\n",
    "    return np.clip(overlay, 0, 1)\n",
    "\n",
    "saliency_overlay = overlay_heatmap(img, saliency_map)\n",
    "lime_overlay = overlay_heatmap(img, lime_map)\n",
    "\n",
    "fig, axes = plt.subplots(1, 3, figsize=(15, 5))\n",
    "\n",
    "axes[0].imshow(img)\n",
    "axes[0].set_title(\"Original Image\")\n",
    "axes[0].axis(\"off\")\n",
    "\n",
    "axes[1].imshow(saliency_overlay)\n",
    "axes[1].set_title(\"Overlay: Saliency (Yudi)\")\n",
    "axes[1].axis(\"off\")\n",
    "\n",
    "axes[2].imshow(lime_overlay)\n",
    "axes[2].set_title(\"Overlay: LIME (Zidni)\")\n",
    "axes[2].axis(\"off\")\n",
    "\n",
    "plt.tight_layout()\n",
    "plt.savefig(os.path.join(output_dir, \"comparison_overlay2.png\"), dpi=300)\n",
    "plt.close()\n",
    "\n",
    "print(f\"Visualizations saved in '{output_dir}/'\")\n",
    "\n"
   ]
  },
  {
   "cell_type": "code",
   "execution_count": null,
   "metadata": {},
   "outputs": [],
   "source": []
  }
 ],
 "metadata": {
  "kaggle": {
   "accelerator": "none",
   "dataSources": [
    {
     "datasetId": 8372598,
     "sourceId": 13209876,
     "sourceType": "datasetVersion"
    }
   ],
   "dockerImageVersionId": 31089,
   "isGpuEnabled": false,
   "isInternetEnabled": false,
   "language": "python",
   "sourceType": "notebook"
  },
  "kernelspec": {
   "display_name": "venv",
   "language": "python",
   "name": "python3"
  },
  "language_info": {
   "codemirror_mode": {
    "name": "ipython",
    "version": 3
   },
   "file_extension": ".py",
   "mimetype": "text/x-python",
   "name": "python",
   "nbconvert_exporter": "python",
   "pygments_lexer": "ipython3",
   "version": "3.9.6"
  }
 },
 "nbformat": 4,
 "nbformat_minor": 4
}
